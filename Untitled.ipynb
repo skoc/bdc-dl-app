{
 "cells": [
  {
   "cell_type": "code",
   "execution_count": 4,
   "metadata": {},
   "outputs": [],
   "source": [
    "import glob\n",
    "import os\n",
    "import random"
   ]
  },
  {
   "cell_type": "code",
   "execution_count": 5,
   "metadata": {},
   "outputs": [],
   "source": [
    "def pullRandomNrrds(parent_dir, insp_exp='', std_sharp='', num_files=100):\n",
    "    file_list = []\n",
    "    file_labels = []\n",
    "\n",
    "    subject_list = glob.glob(os.path.join(parent_dir, '*/'))\n",
    "    ##### TODO: Replace the subject labels with some thing useful from PIC-SURE\n",
    "    ##### For now just assign them a random 0 or 1 for a binary classifier\n",
    "    subject_label_list = [random.randint(0,1) for subject in subject_list]\n",
    "\n",
    "    while (len(file_list) < num_files) and (len(subject_list) > 0):\n",
    "        file_index = random.randrange(len(subject_list))\n",
    "        subject = subject_list.pop(file_index)\n",
    "        subject_label = subject_label_list.pop(file_index)\n",
    "        file_name = glob.glob(os.path.join(subject, '*' + insp_exp + std_sharp + '.png'))\n",
    "        labels = [subject_label for file in file_name]\n",
    "        if not file_name:\n",
    "            continue\n",
    "        else:\n",
    "            for file in file_name:\n",
    "                file_list.append(file)\n",
    "            for label in labels:\n",
    "                file_labels.append(label)\n",
    "\n",
    "    print(f'Returned {len(file_list)} files')\n",
    "    return file_list, file_labels"
   ]
  },
  {
   "cell_type": "code",
   "execution_count": 6,
   "metadata": {},
   "outputs": [],
   "source": [
    "example_path = \"/Users/sonerkoc/Git_repos/medical-image-toolset/histoqc-visual/UserInterface/Data/histoqc_output_20210304-032201\""
   ]
  },
  {
   "cell_type": "code",
   "execution_count": 8,
   "metadata": {},
   "outputs": [
    {
     "name": "stdout",
     "output_type": "stream",
     "text": [
      "Returned 114 files\n"
     ]
    }
   ],
   "source": [
    "f1, f2 = pullRandomNrrds(example_path)"
   ]
  },
  {
   "cell_type": "code",
   "execution_count": 12,
   "metadata": {},
   "outputs": [
    {
     "data": {
      "text/plain": [
       "114"
      ]
     },
     "execution_count": 12,
     "metadata": {},
     "output_type": "execute_result"
    }
   ],
   "source": [
    "len(f1)"
   ]
  },
  {
   "cell_type": "code",
   "execution_count": 14,
   "metadata": {},
   "outputs": [],
   "source": [
    "subject_list = glob.glob(os.path.join(example_path, '*/'))"
   ]
  },
  {
   "cell_type": "code",
   "execution_count": 15,
   "metadata": {},
   "outputs": [
    {
     "data": {
      "text/plain": [
       "['/Users/sonerkoc/Git_repos/medical-image-toolset/histoqc-visual/UserInterface/Data/histoqc_output_20210304-032201/BCM15046_PDX_HE_TG3_2020_20x_Stitch.tif-updated.tif/',\n",
       " '/Users/sonerkoc/Git_repos/medical-image-toolset/histoqc-visual/UserInterface/Data/histoqc_output_20210304-032201/BCM15115_PDX_HE_TG3_2095_20x_Stitch.tif-updated.tif/',\n",
       " '/Users/sonerkoc/Git_repos/medical-image-toolset/histoqc-visual/UserInterface/Data/histoqc_output_20210304-032201/BCM6257_PDX_HE_TG9_172_20x_Stitch_2.tif-updated.tif/',\n",
       " '/Users/sonerkoc/Git_repos/medical-image-toolset/histoqc-visual/UserInterface/Data/histoqc_output_20210304-032201/FCP699_PDX_HE_TG5_1116_20x_Stitch.tif-updated.tif/',\n",
       " '/Users/sonerkoc/Git_repos/medical-image-toolset/histoqc-visual/UserInterface/Data/histoqc_output_20210304-032201/BCM2147_PDX_HE_TG5_1532_20x_Stitch.tif-updated.tif/',\n",
       " '/Users/sonerkoc/Git_repos/medical-image-toolset/histoqc-visual/UserInterface/Data/histoqc_output_20210304-032201/BCM3887_PDX_HE_TG7_2015_20x_Stitch.tif-updated.tif/',\n",
       " '/Users/sonerkoc/Git_repos/medical-image-toolset/histoqc-visual/UserInterface/Data/histoqc_output_20210304-032201/BCM15029_PDX_HE_TG5_2118_20x_Stitch.tif-updated.tif/',\n",
       " '/Users/sonerkoc/Git_repos/medical-image-toolset/histoqc-visual/UserInterface/Data/histoqc_output_20210304-032201/BCM4849_PDX_HE_TG7_1449_20x_Stitch_2.tif-updated.tif/',\n",
       " '/Users/sonerkoc/Git_repos/medical-image-toolset/histoqc-visual/UserInterface/Data/histoqc_output_20210304-032201/BCM5438_PDX_HE_TG2_1277_20x_Stitch_1.tif-updated.tif/',\n",
       " '/Users/sonerkoc/Git_repos/medical-image-toolset/histoqc-visual/UserInterface/Data/histoqc_output_20210304-032201/BCM3963_PDX_HE_TG5_1119_20x_Stitch.tif-updated.tif/',\n",
       " '/Users/sonerkoc/Git_repos/medical-image-toolset/histoqc-visual/UserInterface/Data/histoqc_output_20210304-032201/BCM4272_PDX_HE_TG6_154_20x_Stitch_1.tif-updated.tif/',\n",
       " '/Users/sonerkoc/Git_repos/medical-image-toolset/histoqc-visual/UserInterface/Data/histoqc_output_20210304-032201/BCM7821_PDX_HE_TG4_2004_20x_Stitch.tif-updated.tif/',\n",
       " '/Users/sonerkoc/Git_repos/medical-image-toolset/histoqc-visual/UserInterface/Data/histoqc_output_20210304-032201/MC1_PDX_HE_TG5_1738_20x_Stitch.tif-updated.tif/',\n",
       " '/Users/sonerkoc/Git_repos/medical-image-toolset/histoqc-visual/UserInterface/Data/histoqc_output_20210304-032201/BCM3277_PDX_HE_TG4_576_20x_Stitch_1.tif-updated.tif/',\n",
       " '/Users/sonerkoc/Git_repos/medical-image-toolset/histoqc-visual/UserInterface/Data/histoqc_output_20210304-032201/BCM15034_PDX_HE_TG4_2053_20x_Stitch.tif-updated.tif/',\n",
       " '/Users/sonerkoc/Git_repos/medical-image-toolset/histoqc-visual/UserInterface/Data/histoqc_output_20210304-032201/BCM3936_PDX_HE_TG6_1691_20x_Stitch.tif-updated.tif/',\n",
       " '/Users/sonerkoc/Git_repos/medical-image-toolset/histoqc-visual/UserInterface/Data/histoqc_output_20210304-032201/BCM0046_PDX_HE_TG5_1250_20x_Stitch.tif-updated.tif/',\n",
       " '/Users/sonerkoc/Git_repos/medical-image-toolset/histoqc-visual/UserInterface/Data/histoqc_output_20210304-032201/BCM15006_PDX_HE_TG5_1508_20x_Stitch.tif-updated.tif/',\n",
       " '/Users/sonerkoc/Git_repos/medical-image-toolset/histoqc-visual/UserInterface/Data/histoqc_output_20210304-032201/BCM15057_PDX_HE_TG5_2089_20x_Stitch.tif-updated.tif/',\n",
       " '/Users/sonerkoc/Git_repos/medical-image-toolset/histoqc-visual/UserInterface/Data/histoqc_output_20210304-032201/BCM15051_PDX_HE_TG5_1684_20x_Stitch.tif-updated.tif/',\n",
       " '/Users/sonerkoc/Git_repos/medical-image-toolset/histoqc-visual/UserInterface/Data/histoqc_output_20210304-032201/BCM7649_PDX_HE_TG5_1942_20x_Stitch.tif-updated.tif/',\n",
       " '/Users/sonerkoc/Git_repos/medical-image-toolset/histoqc-visual/UserInterface/Data/histoqc_output_20210304-032201/BCM3904_PDX_HE_TG8_1608_20x_Stitch.tif-updated.tif/',\n",
       " '/Users/sonerkoc/Git_repos/medical-image-toolset/histoqc-visual/UserInterface/Data/histoqc_output_20210304-032201/BCM3107_PDX_HE_TG7_1209_20x_Stitch.tif-updated.tif/',\n",
       " '/Users/sonerkoc/Git_repos/medical-image-toolset/histoqc-visual/UserInterface/Data/histoqc_output_20210304-032201/BCM15008_PDX_HE_TG5_1601_20x_Stitch.tif-updated.tif/',\n",
       " '/Users/sonerkoc/Git_repos/medical-image-toolset/histoqc-visual/UserInterface/Data/histoqc_output_20210304-032201/bcm0002_pdx_he_tg5_292_20x_stitch_2.tif-updated.tif/',\n",
       " '/Users/sonerkoc/Git_repos/medical-image-toolset/histoqc-visual/UserInterface/Data/histoqc_output_20210304-032201/BCM15003_PDX_HE_TG5_1892_20x_Stitch.tif-updated.tif/',\n",
       " '/Users/sonerkoc/Git_repos/medical-image-toolset/histoqc-visual/UserInterface/Data/histoqc_output_20210304-032201/BCM3204_PDX_HE_TG6_1433_20x_Stitch.tif-updated.tif/',\n",
       " '/Users/sonerkoc/Git_repos/medical-image-toolset/histoqc-visual/UserInterface/Data/histoqc_output_20210304-032201/BCM4849_PDX_HE_TG7_1449_20x_Stitch_1.tif-updated.tif/',\n",
       " '/Users/sonerkoc/Git_repos/medical-image-toolset/histoqc-visual/UserInterface/Data/histoqc_output_20210304-032201/BCM3143_PDX_HE_TG6_1797_20x_Stitch.tif-updated.tif/',\n",
       " '/Users/sonerkoc/Git_repos/medical-image-toolset/histoqc-visual/UserInterface/Data/histoqc_output_20210304-032201/BCM2277_PDX_HE_TG5_282_20x_Stitch.tif-updated.tif/',\n",
       " '/Users/sonerkoc/Git_repos/medical-image-toolset/histoqc-visual/UserInterface/Data/histoqc_output_20210304-032201/BCM5471_PDX_HE_TG5_1289_20x_Stitch.tif-updated.tif/',\n",
       " '/Users/sonerkoc/Git_repos/medical-image-toolset/histoqc-visual/UserInterface/Data/histoqc_output_20210304-032201/bcm0104_pdx_he_tg6_1084_20x_stitch.tif-updated.tif/',\n",
       " '/Users/sonerkoc/Git_repos/medical-image-toolset/histoqc-visual/UserInterface/Data/histoqc_output_20210304-032201/BCM4169_PDX_HE_TG3_1093_20x_Stitch.tif-updated.tif/',\n",
       " '/Users/sonerkoc/Git_repos/medical-image-toolset/histoqc-visual/UserInterface/Data/histoqc_output_20210304-032201/BCM4272_PDX_HE_TG6_154_20x_Stitch_2.tif-updated.tif/',\n",
       " '/Users/sonerkoc/Git_repos/medical-image-toolset/histoqc-visual/UserInterface/Data/histoqc_output_20210304-032201/BCM3472_PDX_HE_TG2_1690_20x_Stitch.tif-updated.tif/',\n",
       " '/Users/sonerkoc/Git_repos/medical-image-toolset/histoqc-visual/UserInterface/Data/histoqc_output_20210304-032201/BCM5438_PDX_HE_TG2_1277_20x_Stitch_2.tif-updated.tif/',\n",
       " '/Users/sonerkoc/Git_repos/medical-image-toolset/histoqc-visual/UserInterface/Data/histoqc_output_20210304-032201/BCM3613_PDX_HE_TG6_1369_20x_Stitch.tif-updated.tif/',\n",
       " '/Users/sonerkoc/Git_repos/medical-image-toolset/histoqc-visual/UserInterface/Data/histoqc_output_20210304-032201/BCM15100_PDX_HE_TG4_2113_20x_Stitch.tif-updated.tif/',\n",
       " '/Users/sonerkoc/Git_repos/medical-image-toolset/histoqc-visual/UserInterface/Data/histoqc_output_20210304-032201/BCM3469_PDX_HE_TG5_1494_20x_Stitch.tif-updated.tif/',\n",
       " '/Users/sonerkoc/Git_repos/medical-image-toolset/histoqc-visual/UserInterface/Data/histoqc_output_20210304-032201/BCM4913_PDX_HE_TG5_1337_20x_Stitch.tif-updated.tif/',\n",
       " '/Users/sonerkoc/Git_repos/medical-image-toolset/histoqc-visual/UserInterface/Data/histoqc_output_20210304-032201/BCM3611_PDX_HE_TG5_833_20x_Stitch.tif-updated.tif/',\n",
       " '/Users/sonerkoc/Git_repos/medical-image-toolset/histoqc-visual/UserInterface/Data/histoqc_output_20210304-032201/BCM4888_PDX_HE_TG5_1260_20x_Stitch.tif-updated.tif/',\n",
       " '/Users/sonerkoc/Git_repos/medical-image-toolset/histoqc-visual/UserInterface/Data/histoqc_output_20210304-032201/BCM6257_PDX_HE_TG9_172_20x_Stitch_1.tif-updated.tif/',\n",
       " '/Users/sonerkoc/Git_repos/medical-image-toolset/histoqc-visual/UserInterface/Data/histoqc_output_20210304-032201/BCM3104_PDX_HE_TG5_0084_20x_Stitch.tif-updated.tif/',\n",
       " '/Users/sonerkoc/Git_repos/medical-image-toolset/histoqc-visual/UserInterface/Data/histoqc_output_20210304-032201/BCM4195_PDX_HE_TG5_578_20x_Stitch.tif-updated.tif/',\n",
       " '/Users/sonerkoc/Git_repos/medical-image-toolset/histoqc-visual/UserInterface/Data/histoqc_output_20210304-032201/bcm7482_pdx_he_tg5_2130_20x_stitch.tif-updated.tif/',\n",
       " '/Users/sonerkoc/Git_repos/medical-image-toolset/histoqc-visual/UserInterface/Data/histoqc_output_20210304-032201/BCM3561_PDX_HE_TG5_1471_20x_Stitch.tif-updated.tif/',\n",
       " '/Users/sonerkoc/Git_repos/medical-image-toolset/histoqc-visual/UserInterface/Data/histoqc_output_20210304-032201/BCM0002_PDX_HE_TG5_292_20x_Stitch_1.tif-updated.tif/',\n",
       " '/Users/sonerkoc/Git_repos/medical-image-toolset/histoqc-visual/UserInterface/Data/histoqc_output_20210304-032201/BCM7441_PDX_HE_TG4_2059_20x_Stitch.tif-updated.tif/',\n",
       " '/Users/sonerkoc/Git_repos/medical-image-toolset/histoqc-visual/UserInterface/Data/histoqc_output_20210304-032201/BCM5097_PDX_HE_TG5_2151_20x_Stitch.tif-updated.tif/',\n",
       " '/Users/sonerkoc/Git_repos/medical-image-toolset/histoqc-visual/UserInterface/Data/histoqc_output_20210304-032201/BCM4664_PDX_HE_TG5_703_20x_Stitch.tif-updated.tif/',\n",
       " '/Users/sonerkoc/Git_repos/medical-image-toolset/histoqc-visual/UserInterface/Data/histoqc_output_20210304-032201/bcm2665_pdx_he_tg5_1829_20x_stitch.tif-updated.tif/',\n",
       " '/Users/sonerkoc/Git_repos/medical-image-toolset/histoqc-visual/UserInterface/Data/histoqc_output_20210304-032201/BCM3277_PDX_HE_TG4_576_20x_Stitch_2.tif-updated.tif/']"
      ]
     },
     "execution_count": 15,
     "metadata": {},
     "output_type": "execute_result"
    }
   ],
   "source": [
    "subject_list"
   ]
  },
  {
   "cell_type": "code",
   "execution_count": 12,
   "metadata": {},
   "outputs": [],
   "source": [
    "subject_label_list = [random.randint(0,1) for subject in subject_list]"
   ]
  },
  {
   "cell_type": "code",
   "execution_count": 15,
   "metadata": {},
   "outputs": [
    {
     "data": {
      "text/plain": [
       "33"
      ]
     },
     "execution_count": 15,
     "metadata": {},
     "output_type": "execute_result"
    }
   ],
   "source": [
    "file_index = random.randrange(len(subject_list))\n",
    "random.randrange(len(subject_list))"
   ]
  },
  {
   "cell_type": "code",
   "execution_count": 17,
   "metadata": {},
   "outputs": [
    {
     "data": {
      "text/plain": [
       "'/Users/sonerkoc/Git_repos/medical-image-toolset/histoqc-visual/UserInterface/Data/histoqc_output_20210304-032201/BCM3277_PDX_HE_TG4_576_20x_Stitch_1.tif-updated.tif/'"
      ]
     },
     "execution_count": 17,
     "metadata": {},
     "output_type": "execute_result"
    }
   ],
   "source": [
    "subject = subject_list.pop(file_index)\n",
    "subject_list.pop(file_index)"
   ]
  },
  {
   "cell_type": "code",
   "execution_count": 18,
   "metadata": {},
   "outputs": [
    {
     "data": {
      "text/plain": [
       "1"
      ]
     },
     "execution_count": 18,
     "metadata": {},
     "output_type": "execute_result"
    }
   ],
   "source": [
    "subject_label = subject_label_list.pop(file_index)\n",
    "subject_label_list.pop(file_index)"
   ]
  },
  {
   "cell_type": "code",
   "execution_count": 24,
   "metadata": {},
   "outputs": [
    {
     "data": {
      "text/plain": [
       "[]"
      ]
     },
     "execution_count": 24,
     "metadata": {},
     "output_type": "execute_result"
    }
   ],
   "source": [
    "glob.glob(os.path.join(subject, '*' + '' + '' + '.nrrd'))"
   ]
  },
  {
   "cell_type": "code",
   "execution_count": 22,
   "metadata": {},
   "outputs": [
    {
     "data": {
      "text/plain": [
       "'/Users/sonerkoc/Git_repos/medical-image-toolset/histoqc-visual/UserInterface/Data/histoqc_output_20210304-032201/MC1_PDX_HE_TG5_1738_20x_Stitch.tif-updated.tif/*/*.png'"
      ]
     },
     "execution_count": 22,
     "metadata": {},
     "output_type": "execute_result"
    }
   ],
   "source": [
    "os.path.join(subject, '*/*' + '' + '' + '.png')"
   ]
  },
  {
   "cell_type": "code",
   "execution_count": null,
   "metadata": {},
   "outputs": [],
   "source": []
  },
  {
   "cell_type": "code",
   "execution_count": 1,
   "metadata": {},
   "outputs": [],
   "source": [
    "import tensorflow as tf"
   ]
  },
  {
   "cell_type": "code",
   "execution_count": 2,
   "metadata": {},
   "outputs": [
    {
     "data": {
      "text/plain": [
       "<function tensorflow.python.keras.utils.np_utils.to_categorical(y, num_classes=None, dtype='float32')>"
      ]
     },
     "execution_count": 2,
     "metadata": {},
     "output_type": "execute_result"
    }
   ],
   "source": [
    "tf.keras.utils.to_categorical"
   ]
  },
  {
   "cell_type": "code",
   "execution_count": 16,
   "metadata": {},
   "outputs": [
    {
     "ename": "NameError",
     "evalue": "name 'sitk' is not defined",
     "output_type": "error",
     "traceback": [
      "\u001b[0;31m---------------------------------------------------------------------------\u001b[0m",
      "\u001b[0;31mNameError\u001b[0m                                 Traceback (most recent call last)",
      "\u001b[0;32m<ipython-input-16-8de4502b351c>\u001b[0m in \u001b[0;36m<module>\u001b[0;34m\u001b[0m\n\u001b[0;32m----> 1\u001b[0;31m \u001b[0mreader\u001b[0m \u001b[0;34m=\u001b[0m \u001b[0msitk\u001b[0m\u001b[0;34m.\u001b[0m\u001b[0mImageFileReader\u001b[0m\u001b[0;34m(\u001b[0m\u001b[0;34m)\u001b[0m\u001b[0;34m\u001b[0m\u001b[0;34m\u001b[0m\u001b[0m\n\u001b[0m",
      "\u001b[0;31mNameError\u001b[0m: name 'sitk' is not defined"
     ]
    }
   ],
   "source": [
    "reader = sitk.ImageFileReader()"
   ]
  },
  {
   "cell_type": "code",
   "execution_count": null,
   "metadata": {},
   "outputs": [],
   "source": []
  }
 ],
 "metadata": {
  "kernelspec": {
   "display_name": "base",
   "language": "python",
   "name": "base"
  },
  "language_info": {
   "codemirror_mode": {
    "name": "ipython",
    "version": 3
   },
   "file_extension": ".py",
   "mimetype": "text/x-python",
   "name": "python",
   "nbconvert_exporter": "python",
   "pygments_lexer": "ipython3",
   "version": "3.8.3"
  }
 },
 "nbformat": 4,
 "nbformat_minor": 4
}
